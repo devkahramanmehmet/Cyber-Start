{
  "nbformat": 4,
  "nbformat_minor": 0,
  "metadata": {
    "colab": {
      "provenance": [],
      "authorship_tag": "ABX9TyOnMbjX5vZPTuoaUFb82i6J"
    },
    "kernelspec": {
      "name": "python3",
      "display_name": "Python 3"
    },
    "language_info": {
      "name": "python"
    }
  },
  "cells": [
    {
      "source": [
        "import math\n",
        "\n",
        "def euclideanDistance(**points):\n",
        "\n",
        "  distances = []\n",
        "  min_distance = float('inf')\n",
        "  point_values = list(points.values())\n",
        "\n",
        "  for i in range(len(point_values)):\n",
        "    for j in range(i + 1, len(point_values)):\n",
        "\n",
        "      point1 = point_values[i]\n",
        "      point2 = point_values[j]\n",
        "      distance = math.sqrt((point2[0] - point1[0])**2 + (point2[1] - point1[1])**2)\n",
        "      distances.append(distance)\n",
        "      min_distance = min(distances)\n",
        "  return min_distance\n",
        "\n",
        "min_distance = euclideanDistance(point1=(1, 2), point2=(3, 4), point3=(5, 6))\n",
        "print(f\"Minimum distance: {min_distance}\")"
      ],
      "cell_type": "code",
      "metadata": {
        "colab": {
          "base_uri": "https://localhost:8080/"
        },
        "id": "WnX6xLfUEoBv",
        "outputId": "423b100d-47c3-425b-a3d3-0c0dde8f84d6"
      },
      "execution_count": null,
      "outputs": [
        {
          "output_type": "stream",
          "name": "stdout",
          "text": [
            "Minimum distance: 2.8284271247461903\n"
          ]
        }
      ]
    }
  ]
}